{
 "cells": [
  {
   "cell_type": "markdown",
   "metadata": {},
   "source": [
    "# <center>Building Security Camera Using OpenCV</center>"
   ]
  },
  {
   "cell_type": "markdown",
   "metadata": {},
   "source": [
    "Core Features of Security Cameras\n",
    "\n",
    "There are three core features\n",
    "\n",
    "1. It requires reading some vision through a camera.\n",
    "2. It has to detect some unusual movement, if something is moving, or a burglar or thief is coming, it needs to see it.\n",
    "3. Whenever it detects some movements, it needs to warn or alarm the owner of a security camera.     \n",
    "\n",
    "Now let's start building the security camera using computer vision.\n"
   ]
  },
  {
   "cell_type": "markdown",
   "metadata": {},
   "source": [
    "# 1."
   ]
  },
  {
   "cell_type": "code",
   "execution_count": 1,
   "metadata": {},
   "outputs": [],
   "source": [
    "import cv2\n",
    "\n",
    "cam = cv2.VideoCapture(0)\n",
    "\n",
    "while True:\n",
    "\n",
    "    Success, frame = cam.read()\n",
    "\n",
    "    cv2.imshow(\"Secuirty Camera\", frame)\n",
    "\n",
    "    key = cv2.waitKey(1)\n",
    "\n",
    "    if key == ord('q'):\n",
    "        break\n",
    "\n",
    "cam.release()\n",
    "cv2.destroyAllWindows()"
   ]
  },
  {
   "cell_type": "markdown",
   "metadata": {},
   "source": [
    "# 2."
   ]
  },
  {
   "cell_type": "markdown",
   "metadata": {},
   "source": [
    "So basically we are observing the current frame from camera and also previous frame so that we can ensure that if there is any movement occures we can compare current frame with previous frame and find out what happend."
   ]
  },
  {
   "cell_type": "code",
   "execution_count": 2,
   "metadata": {},
   "outputs": [],
   "source": [
    "import cv2\n",
    "\n",
    "cam = cv2.VideoCapture(0)\n",
    "\n",
    "while True:\n",
    "\n",
    "    Success, frame1 = cam.read()\n",
    "\n",
    "    Success, frame2 = cam.read()\n",
    "\n",
    "    difference = cv2.absdiff(frame1, frame2)\n",
    "\n",
    "    cv2.imshow(\"Secuirty Camera\", difference)\n",
    "\n",
    "    key = cv2.waitKey(1)\n",
    "\n",
    "    if key == ord('q'):\n",
    "        break\n",
    "\n",
    "cam.release()\n",
    "cv2.destroyAllWindows()"
   ]
  },
  {
   "cell_type": "markdown",
   "metadata": {},
   "source": [
    "# 3.\n",
    "Now convert the difference of frames into grayscale so that we get rid from multiple RGB colors as You can see in frames."
   ]
  },
  {
   "cell_type": "code",
   "execution_count": 4,
   "metadata": {},
   "outputs": [],
   "source": [
    "import cv2\n",
    "\n",
    "cam = cv2.VideoCapture(0)\n",
    "\n",
    "while True:\n",
    "\n",
    "    Success, frame1 = cam.read()\n",
    "\n",
    "    Success, frame2 = cam.read()\n",
    "\n",
    "    difference = cv2.absdiff(frame1, frame2)\n",
    "    gray = cv2.cvtColor(difference, cv2.COLOR_RGB2GRAY)\n",
    "\n",
    "    cv2.imshow(\"Secuirty Camera\", gray)\n",
    "\n",
    "    key = cv2.waitKey(1)\n",
    "\n",
    "    if key == ord('q'):\n",
    "        break\n",
    "\n",
    "cam.release()\n",
    "cv2.destroyAllWindows()\n"
   ]
  },
  {
   "cell_type": "markdown",
   "metadata": {},
   "source": [
    "# 4. \n",
    "Now Blur the gray frame"
   ]
  },
  {
   "cell_type": "code",
   "execution_count": 5,
   "metadata": {},
   "outputs": [],
   "source": [
    "import cv2\n",
    "\n",
    "cam = cv2.VideoCapture(0)\n",
    "\n",
    "while True:\n",
    "\n",
    "    Success, frame1 = cam.read()\n",
    "\n",
    "    Success, frame2 = cam.read()\n",
    "\n",
    "    difference = cv2.absdiff(frame1, frame2)\n",
    "    gray = cv2.cvtColor(difference, cv2.COLOR_RGB2GRAY)\n",
    "    blur = cv2.GaussianBlur(gray, (5, 5), 0)\n",
    "\n",
    "    cv2.imshow(\"Secuirty Camera\", blur)\n",
    "\n",
    "    key = cv2.waitKey(1)\n",
    "\n",
    "    if key == ord('q'):\n",
    "        break\n",
    "\n",
    "cam.release()\n",
    "cv2.destroyAllWindows()"
   ]
  },
  {
   "cell_type": "markdown",
   "metadata": {},
   "source": [
    "# 5.\n",
    "Now to get rid of noise, we need some threshold. Thsi will provide you a sharper and brighter frame. "
   ]
  },
  {
   "cell_type": "code",
   "execution_count": 6,
   "metadata": {},
   "outputs": [],
   "source": [
    "import cv2\n",
    "\n",
    "cam = cv2.VideoCapture(0)\n",
    "\n",
    "while True:\n",
    "\n",
    "    Success, frame1 = cam.read()\n",
    "\n",
    "    Success, frame2 = cam.read()\n",
    "\n",
    "    difference = cv2.absdiff(frame1, frame2)\n",
    "    gray = cv2.cvtColor(difference, cv2.COLOR_RGB2GRAY)\n",
    "    blur = cv2.GaussianBlur(gray, (5, 5), 0)\n",
    "\n",
    "    _, thresh = cv2.threshold(blur, 20, 255, cv2.THRESH_BINARY)\n",
    "\n",
    "    cv2.imshow(\"Secuirty Camera\", thresh)\n",
    "\n",
    "    key = cv2.waitKey(1)\n",
    "\n",
    "    if key == ord('q'):\n",
    "        break\n",
    "\n",
    "cam.release()\n",
    "cv2.destroyAllWindows()"
   ]
  },
  {
   "cell_type": "markdown",
   "metadata": {},
   "source": [
    "# 6. \n",
    "Now apply dillation, which is opposite of threshold. Which dilate the lines or edges."
   ]
  },
  {
   "cell_type": "code",
   "execution_count": 7,
   "metadata": {},
   "outputs": [],
   "source": [
    "import cv2\n",
    "\n",
    "cam = cv2.VideoCapture(0)\n",
    "\n",
    "while True:\n",
    "\n",
    "    Success, frame1 = cam.read()\n",
    "\n",
    "    Success, frame2 = cam.read()\n",
    "\n",
    "    difference = cv2.absdiff(frame1, frame2)\n",
    "    gray = cv2.cvtColor(difference, cv2.COLOR_RGB2GRAY)\n",
    "    blur = cv2.GaussianBlur(gray, (5, 5), 0)\n",
    "\n",
    "    _, thresh = cv2.threshold(blur, 20, 255, cv2.THRESH_BINARY)\n",
    "    \n",
    "    dilate = cv2.dilate(thresh, None, iterations=3)\n",
    "\n",
    "    cv2.imshow(\"Secuirty Camera\", dilate)\n",
    "\n",
    "    key = cv2.waitKey(1)\n",
    "\n",
    "    if key == ord('q'):\n",
    "        break\n",
    "\n",
    "cam.release()\n",
    "cv2.destroyAllWindows()"
   ]
  },
  {
   "cell_type": "markdown",
   "metadata": {},
   "source": [
    "# 7. Find and Draw th Contours\n",
    "Now apply the contours, which draw the boundary for each item in the frame which is moving. "
   ]
  },
  {
   "cell_type": "code",
   "execution_count": 8,
   "metadata": {},
   "outputs": [],
   "source": [
    "import cv2\n",
    "\n",
    "cam = cv2.VideoCapture(0)\n",
    "\n",
    "while True:\n",
    "\n",
    "    Success, frame1 = cam.read()\n",
    "\n",
    "    Success, frame2 = cam.read()\n",
    "\n",
    "    difference = cv2.absdiff(frame1, frame2)\n",
    "    gray = cv2.cvtColor(difference, cv2.COLOR_RGB2GRAY)\n",
    "    blur = cv2.GaussianBlur(gray, (5, 5), 0)\n",
    "\n",
    "    _, thresh = cv2.threshold(blur, 20, 255, cv2.THRESH_BINARY)\n",
    "    \n",
    "    dilate = cv2.dilate(thresh, None, iterations=3)\n",
    "\n",
    "    contours, _ = cv2.findContours(dilate,  cv2.RETR_TREE, cv2.CHAIN_APPROX_SIMPLE)\n",
    "    cv2.drawContours(frame1, contours, -1, (0,0,255), 2)\n",
    "\n",
    "    cv2.imshow(\"Secuirty Camera\", frame1)\n",
    "\n",
    "    key = cv2.waitKey(1)\n",
    "\n",
    "    if key == ord('q'):\n",
    "        break\n",
    "\n",
    "cam.release()\n",
    "cv2.destroyAllWindows()"
   ]
  },
  {
   "cell_type": "markdown",
   "metadata": {},
   "source": [
    "# 8. \n",
    "Now detect the movement of big things in the frame. "
   ]
  },
  {
   "cell_type": "code",
   "execution_count": 9,
   "metadata": {},
   "outputs": [],
   "source": [
    "import cv2\n",
    "\n",
    "cam = cv2.VideoCapture(0)\n",
    "\n",
    "while True:\n",
    "\n",
    "    Success, frame1 = cam.read()\n",
    "\n",
    "    Success, frame2 = cam.read()\n",
    "\n",
    "    difference = cv2.absdiff(frame1, frame2)\n",
    "    gray = cv2.cvtColor(difference, cv2.COLOR_RGB2GRAY)\n",
    "    blur = cv2.GaussianBlur(gray, (5, 5), 0)\n",
    "\n",
    "    _, thresh = cv2.threshold(blur, 20, 255, cv2.THRESH_BINARY)\n",
    "    \n",
    "    dilate = cv2.dilate(thresh, None, iterations=3)\n",
    "\n",
    "    contours, _ = cv2.findContours(dilate,  cv2.RETR_TREE, cv2.CHAIN_APPROX_SIMPLE)\n",
    "    # cv2.drawContours(frame1, contours, -1, (0,0,255), 2)\n",
    "    for c in contours:\n",
    "        if cv2.contourArea(c) < 5000:\n",
    "            continue\n",
    "        x, y, w, h = cv2.boundingRect(c)\n",
    "        cv2.rectangle(frame1, (x, y), (x+w, y+h), (0,0,255), 2)\n",
    "\n",
    "    cv2.imshow(\"Secuirty Camera\", frame1)\n",
    "\n",
    "    key = cv2.waitKey(1)\n",
    "\n",
    "    if key == ord('q'):\n",
    "        break\n",
    "\n",
    "cam.release()\n",
    "cv2.destroyAllWindows()"
   ]
  },
  {
   "cell_type": "markdown",
   "metadata": {},
   "source": [
    "# 9. \n",
    "Now make some noise, so that owner takes some security measures."
   ]
  },
  {
   "cell_type": "code",
   "execution_count": 10,
   "metadata": {},
   "outputs": [],
   "source": [
    "import cv2\n",
    "import winsound\n",
    "\n",
    "cam = cv2.VideoCapture(0)\n",
    "\n",
    "while True:\n",
    "\n",
    "    Success, frame1 = cam.read()\n",
    "\n",
    "    Success, frame2 = cam.read()\n",
    "\n",
    "    difference = cv2.absdiff(frame1, frame2)\n",
    "    gray = cv2.cvtColor(difference, cv2.COLOR_RGB2GRAY)\n",
    "    blur = cv2.GaussianBlur(gray, (5, 5), 0)\n",
    "\n",
    "    _, thresh = cv2.threshold(blur, 20, 255, cv2.THRESH_BINARY)\n",
    "    \n",
    "    dilate = cv2.dilate(thresh, None, iterations=3)\n",
    "\n",
    "    contours, _ = cv2.findContours(dilate,  cv2.RETR_TREE, cv2.CHAIN_APPROX_SIMPLE)\n",
    "    # cv2.drawContours(frame1, contours, -1, (0,0,255), 2)\n",
    "    for c in contours:\n",
    "        if cv2.contourArea(c) < 5000:\n",
    "            continue\n",
    "        x, y, w, h = cv2.boundingRect(c)\n",
    "        cv2.rectangle(frame1, (x, y), (x+w, y+h), (0,0,255), 2)\n",
    "        winsound.Beep(500, 200)\n",
    "\n",
    "    cv2.imshow(\"Secuirty Camera\", frame1)\n",
    "\n",
    "    key = cv2.waitKey(1)\n",
    "\n",
    "    if key == ord('q'):\n",
    "        break\n",
    "\n",
    "cam.release()\n",
    "cv2.destroyAllWindows()"
   ]
  },
  {
   "cell_type": "markdown",
   "metadata": {},
   "source": [
    "# <center>END</center>"
   ]
  },
  {
   "cell_type": "markdown",
   "metadata": {},
   "source": [
    "________________________________________"
   ]
  }
 ],
 "metadata": {
  "kernelspec": {
   "display_name": "Python 3",
   "language": "python",
   "name": "python3"
  },
  "language_info": {
   "codemirror_mode": {
    "name": "ipython",
    "version": 3
   },
   "file_extension": ".py",
   "mimetype": "text/x-python",
   "name": "python",
   "nbconvert_exporter": "python",
   "pygments_lexer": "ipython3",
   "version": "3.9.1"
  },
  "orig_nbformat": 4
 },
 "nbformat": 4,
 "nbformat_minor": 2
}
