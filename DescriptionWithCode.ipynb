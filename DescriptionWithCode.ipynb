{
 "cells": [
  {
   "cell_type": "markdown",
   "metadata": {},
   "source": [
    "# <center>Building Security Camera Using OpenCV</center>"
   ]
  },
  {
   "cell_type": "markdown",
   "metadata": {},
   "source": [
    "Core Features of Security Cameras\n",
    "\n",
    "There are three core features\n",
    "\n",
    "1. It requires reading some vision through a camera.\n",
    "2. It has to detect some unusual movement, if something is moving, or a burglar or thief is coming, it needs to see it.\n",
    "3. Whenever it detects some movements, it needs to warn or alarm the owner of a security camera.     \n",
    "\n",
    "Now let's start building the security camera using computer vision.\n"
   ]
  },
  {
   "cell_type": "markdown",
   "metadata": {},
   "source": [
    "# 1."
   ]
  },
  {
   "cell_type": "code",
   "execution_count": 1,
   "metadata": {},
   "outputs": [],
   "source": [
    "import cv2\n",
    "\n",
    "cam = cv2.VideoCapture(0)\n",
    "\n",
    "while True:\n",
    "\n",
    "    Success, frame = cam.read()\n",
    "\n",
    "    cv2.imshow(\"Secuirty Camera\", frame)\n",
    "\n",
    "    key = cv2.waitKey(1)\n",
    "\n",
    "    if key == ord('q'):\n",
    "        break\n",
    "\n",
    "cam.release()\n",
    "cv2.destroyAllWindows()"
   ]
  },
  {
   "cell_type": "markdown",
   "metadata": {},
   "source": [
    "# 2."
   ]
  },
  {
   "cell_type": "markdown",
   "metadata": {},
   "source": [
    "So basically we are observing the current frame from camera and also previous frame so that we can ensure that if there is any movement occures we can compare current frame with previous frame and find out what happend."
   ]
  },
  {
   "cell_type": "code",
   "execution_count": 2,
   "metadata": {},
   "outputs": [],
   "source": [
    "import cv2\n",
    "\n",
    "cam = cv2.VideoCapture(0)\n",
    "\n",
    "while True:\n",
    "\n",
    "    Success, frame1 = cam.read()\n",
    "\n",
    "    Success, frame2 = cam.read()\n",
    "\n",
    "    difference = cv2.absdiff(frame1, frame2)\n",
    "\n",
    "    cv2.imshow(\"Secuirty Camera\", difference)\n",
    "\n",
    "    key = cv2.waitKey(1)\n",
    "\n",
    "    if key == ord('q'):\n",
    "        break\n",
    "\n",
    "cam.release()\n",
    "cv2.destroyAllWindows()"
   ]
  },
  {
   "cell_type": "markdown",
   "metadata": {},
   "source": [
    "# 3.\n",
    "Now convert the difference of frames into grayscale so that we get rid from multiple RGB colors as You can see in frames."
   ]
  },
  {
   "cell_type": "code",
   "execution_count": 4,
   "metadata": {},
   "outputs": [],
   "source": [
    "import cv2\n",
    "\n",
    "cam = cv2.VideoCapture(0)\n",
    "\n",
    "while True:\n",
    "\n",
    "    Success, frame1 = cam.read()\n",
    "\n",
    "    Success, frame2 = cam.read()\n",
    "\n",
    "    difference = cv2.absdiff(frame1, frame2)\n",
    "    gray = cv2.cvtColor(difference, cv2.COLOR_RGB2GRAY)\n",
    "\n",
    "    cv2.imshow(\"Secuirty Camera\", gray)\n",
    "\n",
    "    key = cv2.waitKey(1)\n",
    "\n",
    "    if key == ord('q'):\n",
    "        break\n",
    "\n",
    "cam.release()\n",
    "cv2.destroyAllWindows()\n"
   ]
  },
  {
   "cell_type": "markdown",
   "metadata": {},
   "source": [
    "# 4. \n",
    "Now Blur the gray frame"
   ]
  },
  {
   "cell_type": "code",
   "execution_count": 5,
   "metadata": {},
   "outputs": [],
   "source": [
    "import cv2\n",
    "\n",
    "cam = cv2.VideoCapture(0)\n",
    "\n",
    "while True:\n",
    "\n",
    "    Success, frame1 = cam.read()\n",
    "\n",
    "    Success, frame2 = cam.read()\n",
    "\n",
    "    difference = cv2.absdiff(frame1, frame2)\n",
    "    gray = cv2.cvtColor(difference, cv2.COLOR_RGB2GRAY)\n",
    "    blur = cv2.GaussianBlur(gray, (5, 5), 0)\n",
    "\n",
    "    cv2.imshow(\"Secuirty Camera\", blur)\n",
    "\n",
    "    key = cv2.waitKey(1)\n",
    "\n",
    "    if key == ord('q'):\n",
    "        break\n",
    "\n",
    "cam.release()\n",
    "cv2.destroyAllWindows()"
   ]
  },
  {
   "cell_type": "code",
   "execution_count": null,
   "metadata": {},
   "outputs": [],
   "source": []
  }
 ],
 "metadata": {
  "kernelspec": {
   "display_name": "Python 3",
   "language": "python",
   "name": "python3"
  },
  "language_info": {
   "codemirror_mode": {
    "name": "ipython",
    "version": 3
   },
   "file_extension": ".py",
   "mimetype": "text/x-python",
   "name": "python",
   "nbconvert_exporter": "python",
   "pygments_lexer": "ipython3",
   "version": "3.9.1"
  },
  "orig_nbformat": 4
 },
 "nbformat": 4,
 "nbformat_minor": 2
}
